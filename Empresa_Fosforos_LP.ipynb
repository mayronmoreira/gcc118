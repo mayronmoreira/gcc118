{
 "cells": [
  {
   "cell_type": "markdown",
   "metadata": {},
   "source": [
    "# Uma empresa de fósforos\n",
    "\n",
    "Uma empresa produz dois tipos de fósforos: \n",
    "- longos, com lucro de 3 (x100 u.m.);\n",
    "- curtos, com lucro de 3 (x100 u.m.);\n",
    "    \n",
    "Os fósforos são feitos por uma única máquina, que pode produzir 9 (x100.000) caixas de fósforos por ano. Para produzir e vender os fósforos, a empresa precisa de madeira e de caixas. São necessários:\n",
    "- 3 $m^3$ de madeira para cada caixa de fósforos longos e;\n",
    "- 1 $m^3$ de madeira para cada caixa de fósforos curtos.\n",
    "\n",
    "A empresa possui 18 $m^3$ (x100.000) de madeira para usar durante o próximo ano. Dispõe ainda de:\n",
    "- 7 (x100.000) caixas para fósforos longos e;\n",
    "- 6 (x100.000) caixas para fósforos curtos. \n",
    "\n",
    "A empresa deseja maximizar seus lucros com a venda de fósforos no próximo ano, sabendo que toda sua produção pode ser vendida. \n",
    "\n",
    "Como formular e resolver este problema através de um modelo matemático? Qual é a solução ótima?"
   ]
  },
  {
   "cell_type": "markdown",
   "metadata": {},
   "source": [
    "# Modelo matemático\n",
    "\n",
    "**Variáveis**\n",
    "- $x \\ge 0$: quantidade de caixas de fósforos longos;\n",
    "- $y \\ge 0$: quantidade de caixas de fósforos pequenos.\n",
    "\n",
    "**Maximização do lucro**\n",
    "\\begin{equation}\n",
    "    \\max f(x,y) = 3x + 2y\n",
    "\\end{equation}\n",
    "\n",
    "sujeito a:\n",
    "\n",
    "\\begin{alignat}{2}\n",
    "x + y \\le 9 && &\\qquad \\mbox{\\{Capacidade da máquina\\}}\\\\\n",
    "3x + y \\le 18 && &\\qquad \\mbox{\\{Oferta de madeira\\}}\\\\\n",
    "x \\le 7 && &\\qquad \\mbox{\\{Oferta de caixas de fósforos longos\\}}\\\\\n",
    "y \\le 6 && &\\qquad \\mbox{\\{Oferta de caixas de fósforos pequenos\\}}\\\\\n",
    "x \\ge 0 && &\\qquad \\mbox{\\{Domínio da variável }x \\mbox{\\}}\\\\\n",
    "y \\ge 0 && &\\qquad \\mbox{\\{Domínio da variável }y \\mbox{\\}}\n",
    "\\end{alignat}"
   ]
  },
  {
   "cell_type": "code",
   "execution_count": 5,
   "metadata": {},
   "outputs": [
    {
     "name": "stdout",
     "output_type": "stream",
     "text": [
      "Tempo: 0.00047278404235839844s\n",
      "Valor ótimo: x = 4.5 e y = 4.499999999999999\n",
      "Função ótima: 22.5\n"
     ]
    }
   ],
   "source": [
    "#!/usr/bin/env  julia\n",
    "using JuMP\n",
    "using GLPKMathProgInterface\n",
    "\n",
    "# Declaração da variável modelo\n",
    "m = Model(solver=GLPKSolverLP())\n",
    "\n",
    "# Declaração das variáveis\n",
    "@variable(m, x >= 0)\n",
    "@variable(m, y >= 0)\n",
    "\n",
    "# Função objetivo\n",
    "@objective(m, Max, 3*x + 2*y)\n",
    "\n",
    "# Restrições\n",
    "@constraints(m, begin\n",
    "        x + y <= 9\n",
    "        3x + y <= 18\n",
    "        x <= 7\n",
    "        y <= 6\n",
    "        end)\n",
    "\n",
    "# Resolve o modelo e imprime os resultados\n",
    "start = time()\n",
    "solve(m)\n",
    "println(\"Tempo: $(time()-start)s\")\n",
    "println(\"Valor ótimo: x = \", getvalue(x), \" e y = \", getvalue(y))\n",
    "println(\"Função ótima: \", getobjectivevalue(m))"
   ]
  },
  {
   "cell_type": "code",
   "execution_count": null,
   "metadata": {},
   "outputs": [],
   "source": []
  }
 ],
 "metadata": {
  "kernelspec": {
   "display_name": "Julia 0.6.2",
   "language": "julia",
   "name": "julia-0.6"
  },
  "language_info": {
   "file_extension": ".jl",
   "mimetype": "application/julia",
   "name": "julia",
   "version": "0.6.2"
  }
 },
 "nbformat": 4,
 "nbformat_minor": 2
}
