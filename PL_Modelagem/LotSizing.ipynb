{
 "cells": [
  {
   "cell_type": "markdown",
   "metadata": {},
   "source": [
    "# GCC118 - Programação Matemática\n",
    "## Prof. Mayron César de O. Moreira\n",
    "### Programação Linear: Modelagem Matemática\n",
    "\n",
    "- *Universidade Federal de Lavras*  \n",
    "- *Departamento de Ciência da Computação*  "
   ]
  },
  {
   "cell_type": "markdown",
   "metadata": {},
   "source": [
    "# Problema da empresa *Minas Máquinas*\n",
    "\n",
    "Considere uma empresa que fabrica $n$ produtos e deseja programar sua produção nos próximos $T$ períodos. Cada produto possui uma demanda específica em cada período, que deve ser exatamente atendida. Os custos de produção (estoque) dependem da quantidade produzida (estocada) e variam de acordo com o item e período. A produção de um determinado item consome uma certa quantidade de recurso (por exemplo: água, energia, gás, etc) pré-determinado para o período em questão. Diante deste cenário, a *Minas Máquinas* deseja planejar o controle da produção dos produtos em cada período, visando a minimização dos custos de produção e custos de estocagem."
   ]
  },
  {
   "cell_type": "markdown",
   "metadata": {},
   "source": [
    "## Modelagem matemática\n",
    "\n",
    "A seguir, apresentaremos a modelagem matemática deste problema, especificando os principais elementos da modelagem de um problema de programação matemática: $(i)$ parâmetros (dados); $(ii)$ variáveis de decisão; $(iii)$ modelagem, composta por uma função objetivo, restrições do problema e restrições de domínio das variáveis de decisão. "
   ]
  },
  {
   "cell_type": "markdown",
   "metadata": {},
   "source": [
    "### Parâmetros\n",
    "\n",
    "- $n$: quantidade de produtos;\n",
    "- $T$: quantidade de períodos;\n",
    "- $d_{it}$: demanda do item $i$ no período $t$, $i=1,...,n$ e $t=1,...,T$;\n",
    "- $R_t$: disponibilidade de recursos (renováveis) no período $t$;\n",
    "- $r_i$: quantidade de recursos necessários para a produção de uma unidade do item $i$;\n",
    "- $c_{it}$: custo para produzir uma unidade do item $i$ no período $t$;\n",
    "- $h_{it}$: custo de estocar uma unidade do item $i$ no período $t$."
   ]
  },
  {
   "cell_type": "markdown",
   "metadata": {},
   "source": [
    "### Variáveis\n",
    "\n",
    "- $x_{it} \\ge 0$: quantidade do item $i$ produzido no período $t$;\n",
    "- $I_{it} \\ge 0$: quantidade do item $i$ estocado no fim do período $t$."
   ]
  },
  {
   "cell_type": "markdown",
   "metadata": {},
   "source": [
    "### Função objetivo\n",
    "\n",
    "Minimização dos custos de produção e estoque de todos os itens, em todos os períodos.\n",
    "\n",
    "\\begin{equation}\n",
    "\\min \\sum_{i=1}^{n}\\sum_{t=1}^T c_{it}x_{it} + \\sum_{i=1}^{n}\\sum_{t=1}^T h_{it}I_{it}\n",
    "\\end{equation}"
   ]
  },
  {
   "cell_type": "markdown",
   "metadata": {},
   "source": [
    "### Restrições\n",
    "\n",
    "- Restrição 1 (Conservação de estoque e atendimento de demanda): o nível do estoque no período $t$ é igual ao que se tinha no período anterior, adicionado do que foi produzido agora, menos o que foi demandado em $t$. Esta igualdade garante o atendimento exato da demanda do período $t$.\n",
    "\n",
    "\\begin{equation}\n",
    "I_{i,t-1} + x_{it} - d_{it}  = I_{it} \\qquad i=1,...,n,t=1,...,T\n",
    "\\end{equation}\n",
    "\n",
    "- Restrição 2: a produção dos itens não deve superar a capacidade (disponibilidade) de recursos da fábrica, em cada período $t$.\n",
    "\\begin{equation}\n",
    "\\sum_{i=1}^{n}r_{i}x_{it} \\le R_t \\qquad t=1,...,T\n",
    "\\end{equation}\n"
   ]
  },
  {
   "cell_type": "markdown",
   "metadata": {},
   "source": [
    "### Modelo\n",
    "\n",
    "\\begin{equation}\n",
    "\\min f(x,I) = \\sum_{i=1}^{n}\\sum_{t=1}^T c_{it}x_{it} + \\sum_{i=1}^{n}\\sum_{t=1}^T h_{it}I_{it}\n",
    "\\end{equation}\n",
    "\n",
    "sujeito a:\n",
    "\n",
    "\\begin{alignat}{2}\n",
    "I_{i,t-1} + x_{it} - I_{it} = d_{it} && \\qquad &i=1,...,n,t=1,...,T\\\\\n",
    "\\sum_{i=1}^{n}r_{i}x_{it} \\le R_t && \\qquad &t=1,...,T\\\\\n",
    "x_{it} \\ge 0 && \\qquad &i=1,...,n,t=1,...,T\\\\\n",
    "I_{it} \\ge 0 && \\qquad &i=1,...,n,t=1,...,T\\\\\n",
    "\\end{alignat}"
   ]
  },
  {
   "cell_type": "markdown",
   "metadata": {},
   "source": [
    "## Implementação em Python\n",
    "\n",
    "Apresentamos, a seguir, uma sugestão de implementação deste modelo em Python."
   ]
  },
  {
   "cell_type": "markdown",
   "metadata": {},
   "source": [
    "### Importação da biblioteca do Gurobi"
   ]
  },
  {
   "cell_type": "code",
   "execution_count": 1,
   "metadata": {},
   "outputs": [],
   "source": [
    "from gurobipy import *"
   ]
  },
  {
   "cell_type": "markdown",
   "metadata": {},
   "source": [
    "### Criação do modelo"
   ]
  },
  {
   "cell_type": "code",
   "execution_count": 2,
   "metadata": {},
   "outputs": [
    {
     "name": "stdout",
     "output_type": "stream",
     "text": [
      "Academic license - for non-commercial use only\n"
     ]
    }
   ],
   "source": [
    "# Criacao do modelo\n",
    "m = Model(\"Minas_Maquinas\")"
   ]
  },
  {
   "cell_type": "markdown",
   "metadata": {},
   "source": [
    "### Declaração dos parâmetros do problema\n",
    "\n",
    "Os valores abaixo são arbitrários, apenas para ilustrar o funcionamento do modelo."
   ]
  },
  {
   "cell_type": "code",
   "execution_count": 3,
   "metadata": {},
   "outputs": [],
   "source": [
    "# Numero de itens\n",
    "n = 3\n",
    "\n",
    "# Numero de periodos\n",
    "T = 2\n",
    "\n",
    "# Matriz de custos de producao\n",
    "c = [[100,80],\n",
    "     [60,80],\n",
    "     [30,200]]\n",
    "\n",
    "# Matriz de custos de estoque\n",
    "h = [[2,2.5],\n",
    "     [3,3.5],\n",
    "     [3.5,3.5]]\n",
    "\n",
    "# Vetor de recursos de cada item\n",
    "r = [0.25,0.3,0.3]\n",
    "\n",
    "# Vetor de recursos dos periodos\n",
    "R = [200,250]\n",
    "\n",
    "# Demanda dos itens em cada periodo\n",
    "d = [[50,20],\n",
    "     [40,60],\n",
    "     [100,80]]"
   ]
  },
  {
   "cell_type": "markdown",
   "metadata": {},
   "source": [
    "### Criação das variáveis de decisão"
   ]
  },
  {
   "cell_type": "code",
   "execution_count": 4,
   "metadata": {},
   "outputs": [],
   "source": [
    "# Declaracao das variaveis x: quantidade produzida do item i no periodo t \n",
    "x = m.addVars(n, T, lb=0, ub=GRB.INFINITY, name=\"x\")\n",
    "\n",
    "# Declaracao das variaveis I: quantidade estocada do item i no fim do periodo t\n",
    "I = m.addVars(n, T, lb=0, ub=GRB.INFINITY, name=\"I\")"
   ]
  },
  {
   "cell_type": "markdown",
   "metadata": {},
   "source": [
    "### Criação da função objetivo"
   ]
  },
  {
   "cell_type": "code",
   "execution_count": 5,
   "metadata": {},
   "outputs": [],
   "source": [
    "m.setObjective(sum(c[i][t]*x[i,t] for i in range(n) for t in range(T)) \n",
    "               + sum(h[i][t]*I[i,t] for i in range(n) for t in range(T)), GRB.MINIMIZE)"
   ]
  },
  {
   "cell_type": "markdown",
   "metadata": {},
   "source": [
    "### Restrição 1: Conservação de estoque e atendimento de demanda"
   ]
  },
  {
   "cell_type": "code",
   "execution_count": 6,
   "metadata": {},
   "outputs": [
    {
     "data": {
      "text/plain": [
       "{0: <gurobi.Constr *Awaiting Model Update*>,\n",
       " 1: <gurobi.Constr *Awaiting Model Update*>,\n",
       " 2: <gurobi.Constr *Awaiting Model Update*>}"
      ]
     },
     "execution_count": 6,
     "metadata": {},
     "output_type": "execute_result"
    }
   ],
   "source": [
    "# Conservacao de estoque e atendimento as demandas\n",
    "m.addConstrs((I[i,t-1] + x[i,t] - I[i,t] == d[i][t]\n",
    "    for i in range(n) for t in range(1,T)),\"Demanda\")\n",
    "\n",
    "# A mesma restricao considerando o periodo 0 (não existe período anterior ao 0)\n",
    "m.addConstrs((x[i,0] - I[i,0] == d[i][0] for i in range(n)), \"Demanda0\")"
   ]
  },
  {
   "cell_type": "markdown",
   "metadata": {},
   "source": [
    "### Restrição 2: Respeito a capacidade de cada período"
   ]
  },
  {
   "cell_type": "code",
   "execution_count": 7,
   "metadata": {},
   "outputs": [
    {
     "data": {
      "text/plain": [
       "{0: <gurobi.Constr *Awaiting Model Update*>,\n",
       " 1: <gurobi.Constr *Awaiting Model Update*>}"
      ]
     },
     "execution_count": 7,
     "metadata": {},
     "output_type": "execute_result"
    }
   ],
   "source": [
    "m.addConstrs((sum(r[i]*x[i,t] for i in range(n)) <= R[t] for t in range(0,T)), \"Capacidade\")"
   ]
  },
  {
   "cell_type": "markdown",
   "metadata": {},
   "source": [
    "### Salva o modelo no formato .lp (importante para conferir se a formulação está implementada corretamente)"
   ]
  },
  {
   "cell_type": "code",
   "execution_count": 8,
   "metadata": {},
   "outputs": [],
   "source": [
    "m.write('Minas_Maq.lp')"
   ]
  },
  {
   "cell_type": "markdown",
   "metadata": {},
   "source": [
    "### Resolve o modelo"
   ]
  },
  {
   "cell_type": "code",
   "execution_count": 9,
   "metadata": {},
   "outputs": [
    {
     "name": "stdout",
     "output_type": "stream",
     "text": [
      "Optimize a model with 8 rows, 12 columns and 21 nonzeros\n",
      "Coefficient statistics:\n",
      "  Matrix range     [2e-01, 1e+00]\n",
      "  Objective range  [2e+00, 2e+02]\n",
      "  Bounds range     [0e+00, 0e+00]\n",
      "  RHS range        [2e+01, 2e+02]\n",
      "Presolve removed 3 rows and 3 columns\n",
      "Presolve time: 0.01s\n",
      "Presolved: 5 rows, 9 columns, 15 nonzeros\n",
      "\n",
      "Iteration    Objective       Primal Inf.    Dual Inf.      Time\n",
      "       0    1.0400000e+04   3.750000e+01   0.000000e+00      0s\n",
      "       3    1.8460000e+04   0.000000e+00   0.000000e+00      0s\n",
      "\n",
      "Solved in 3 iterations and 0.03 seconds\n",
      "Optimal objective  1.846000000e+04\n"
     ]
    }
   ],
   "source": [
    "m.optimize()"
   ]
  },
  {
   "cell_type": "markdown",
   "metadata": {},
   "source": [
    "### Imprimindo o valor das variáveis do problema"
   ]
  },
  {
   "cell_type": "code",
   "execution_count": 10,
   "metadata": {},
   "outputs": [
    {
     "name": "stdout",
     "output_type": "stream",
     "text": [
      "\n",
      "    Variable            X \n",
      "-------------------------\n",
      "      x[0,0]           50 \n",
      "      x[0,1]           20 \n",
      "      x[1,0]          100 \n",
      "      x[2,0]          180 \n",
      "      I[1,0]           60 \n",
      "      I[2,0]           80 \n"
     ]
    }
   ],
   "source": [
    "m.printAttr('X')"
   ]
  },
  {
   "cell_type": "markdown",
   "metadata": {},
   "source": [
    "### Imprime o valor da função objetivo"
   ]
  },
  {
   "cell_type": "code",
   "execution_count": 11,
   "metadata": {},
   "outputs": [
    {
     "name": "stdout",
     "output_type": "stream",
     "text": [
      "Obj: 18460.0\n"
     ]
    }
   ],
   "source": [
    "print(\"Obj: \" + str(m.objVal))"
   ]
  },
  {
   "cell_type": "markdown",
   "metadata": {},
   "source": [
    "### Impressao do status da solucao"
   ]
  },
  {
   "cell_type": "code",
   "execution_count": 13,
   "metadata": {},
   "outputs": [
    {
     "name": "stdout",
     "output_type": "stream",
     "text": [
      "Status: OTIMA\n"
     ]
    }
   ],
   "source": [
    "status = 'Status: '\n",
    "if m.status == GRB.OPTIMAL:\n",
    "    status += 'OTIMA'\n",
    "\n",
    "elif m.status == GRB.INFEASIBLE:\n",
    "    status += 'INFACTIVEL'\n",
    "\n",
    "elif m.status == GRB.UNBOUNDED:\n",
    "    status += 'ILIMITADA'\n",
    "\n",
    "else:\n",
    "    status += 'FACTIVEL'\n",
    "\n",
    "print(status)"
   ]
  },
  {
   "cell_type": "markdown",
   "metadata": {},
   "source": [
    "## Referências\n",
    "\n",
    "- Arenales, M., Armentano, V.; Morabito, R.; Yanasse, H. (2007). Pesquisa Operacional, 1a ed., Rio de Janeiro: Campus - Elsevier."
   ]
  }
 ],
 "metadata": {
  "kernelspec": {
   "display_name": "Python 3",
   "language": "python",
   "name": "python3"
  },
  "language_info": {
   "codemirror_mode": {
    "name": "ipython",
    "version": 3
   },
   "file_extension": ".py",
   "mimetype": "text/x-python",
   "name": "python",
   "nbconvert_exporter": "python",
   "pygments_lexer": "ipython3",
   "version": "3.7.3"
  }
 },
 "nbformat": 4,
 "nbformat_minor": 2
}
