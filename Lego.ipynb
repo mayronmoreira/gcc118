{
 "cells": [
  {
   "cell_type": "markdown",
   "metadata": {},
   "source": [
    "# GCC118 - Programação Matemática\n",
    "## Prof. Mayron César de O. Moreira\n",
    "### Programação Linear: Modelagem Matemática\n",
    "\n",
    "- *Universidade Federal de Lavras*  \n",
    "- *Departamento de Ciência da Computação*  "
   ]
  },
  {
   "cell_type": "markdown",
   "metadata": {},
   "source": [
    "# Problema da empresa *LegoPlus* (Baseado em Cochran, 2015)\n",
    "\n",
    "A empresa *LegoPlus* é especializada na produção mesas e cadeiras compostas por peças de lego. A *LegoPlus* trabalha com as seguintes matérias-primas: uma peça de dimensões $2\\times2$ (peça pequena) e uma outra peça de dimensões $2\\times4$ (peça grande). Para a construção de uma mesa, são necessárias $2$ peças pequenas e $2$ peças grandes. Por outro lado, para a fabricação de uma cadeira, são necessárias 2 peças pequenas e uma peça grande. As Figuras 1 e 2 ilustram esses dados. \n",
    "\n",
    "<figure>\n",
    "    <img src='./images/Lego1.png' width=350 height=350>\n",
    "    <center><figcaption>Figura 1: Matéria-prima para a produção das mesas e cadeiras (Cochran, 2015).</figcaption></center>\n",
    "</figure>\n",
    "<br>\n",
    "<figure>\n",
    "    <img src='./images/Lego2.png' width=350 height=350>\n",
    "    <center><figcaption>Figura 2: Exemplo de uma mesa e uma cadeira feita de peças de lego (Cochran, 2015).</figcaption></center>\n",
    "</figure>\n",
    "\n",
    "O custo de cada peça pequena é calculado em $\\$3$, enquanto uma peça grande custa a *LegoPlus* $\\$5$. Sabendo que uma mesa e uma cadeira são vendidas a $\\$32$ e $\\$21$, respectivamente, qual é a quantidade de cada um desses produtos que maximiza o lucro da *LegoPlus*?"
   ]
  },
  {
   "cell_type": "markdown",
   "metadata": {},
   "source": [
    "## Modelagem matemática\n",
    "\n",
    "A seguir, apresentaremos a modelagem matemática deste problema, especificando os principais elementos da modelagem de um problema de programação matemática: $(i)$ parâmetros (dados); $(ii)$ variáveis de decisão; $(iii)$ modelagem, composta por uma função objetivo, restrições do problema e restrições de domínio das variáveis de decisão. "
   ]
  },
  {
   "cell_type": "markdown",
   "metadata": {},
   "source": [
    "### Parâmetros\n",
    "\n",
    "- Custo de uma peça pequena: $\\$3$;\n",
    "- Custo de uma peça grande: $\\$5$;\n",
    "- Preço de venda de uma mesa: $\\$32$;\n",
    "- Preço de venda de uma cadeira: $\\$21$;\n",
    "- **Lucro de venda de uma mesa: $\\$32 - 2\\cdot\\$3 - 2\\cdot \\$5 = \\$16$**\n",
    "- **Lucro de venda de uma cadeira: $\\$21 - 2\\cdot\\$3 - 1\\cdot \\$5 = \\$10$**"
   ]
  },
  {
   "cell_type": "markdown",
   "metadata": {},
   "source": [
    "### Variáveis\n",
    "\n",
    "- $x \\ge 0$: quantidade de mesas vendidas;\n",
    "- $y \\ge 0$: quantidade de cadeiras."
   ]
  },
  {
   "cell_type": "markdown",
   "metadata": {},
   "source": [
    "### Função objetivo\n",
    "\n",
    "Consiste na **maximização** do lucro da *LegoPlus*, em termos do número de vendas de mesas e cadeiras.\n",
    "\n",
    "\\begin{equation}\n",
    "\\max f(x,y) = 16x + 10y\n",
    "\\end{equation}"
   ]
  },
  {
   "cell_type": "markdown",
   "metadata": {},
   "source": [
    "### Restrições\n",
    "\n",
    "- Restrição 1: o número de mesas e cadeiras produzidas deve respeitar a oferta de peças pequenas.\n",
    "\\begin{equation}\n",
    "2x + 2y \\le 8\n",
    "\\end{equation}\n",
    "\n",
    "- Restrição 2: o número de mesas e cadeiras produzidas deve respeitar a oferta de peças grandes.\n",
    "\\begin{equation}\n",
    "2x + y \\le 6\n",
    "\\end{equation}"
   ]
  },
  {
   "cell_type": "markdown",
   "metadata": {},
   "source": [
    "### Modelo\n",
    "\n",
    "\\begin{equation}\n",
    "\\max f(x,y) = 16x + 10y\n",
    "\\end{equation}\n",
    "\n",
    "sujeito a:\n",
    "\n",
    "\\begin{alignat}{2}\n",
    "2x + 2y \\le 8 && \\qquad \\\\\n",
    "2x + y \\le 6 && \\qquad \\\\\n",
    "x \\ge 0, y \\ge 0 && \\qquad\n",
    "\\end{alignat}"
   ]
  },
  {
   "cell_type": "markdown",
   "metadata": {},
   "source": [
    "## Implementação em Python\n",
    "\n",
    "Apresentamos, a seguir, uma sugestão de implementação deste modelo em Python."
   ]
  },
  {
   "cell_type": "markdown",
   "metadata": {},
   "source": [
    "### Importação da biblioteca do Gurobi"
   ]
  },
  {
   "cell_type": "code",
   "execution_count": 1,
   "metadata": {},
   "outputs": [],
   "source": [
    "from gurobipy import *"
   ]
  },
  {
   "cell_type": "markdown",
   "metadata": {},
   "source": [
    "### Criação do modelo"
   ]
  },
  {
   "cell_type": "code",
   "execution_count": 2,
   "metadata": {},
   "outputs": [
    {
     "name": "stdout",
     "output_type": "stream",
     "text": [
      "Academic license - for non-commercial use only\n"
     ]
    }
   ],
   "source": [
    "# Criacao do modelo\n",
    "m = Model(\"lego\")"
   ]
  },
  {
   "cell_type": "markdown",
   "metadata": {},
   "source": [
    "### Criação das variáveis de decisão"
   ]
  },
  {
   "cell_type": "code",
   "execution_count": 3,
   "metadata": {},
   "outputs": [],
   "source": [
    "x = m.addVar(vtype=GRB.CONTINUOUS, name=\"x\") # Quantidade de mesas\n",
    "y = m.addVar(vtype=GRB.CONTINUOUS, name=\"y\") # Quantidade de cadeiras"
   ]
  },
  {
   "cell_type": "markdown",
   "metadata": {},
   "source": [
    "### Criação da função objetivo"
   ]
  },
  {
   "cell_type": "code",
   "execution_count": 4,
   "metadata": {},
   "outputs": [],
   "source": [
    "m.setObjective(16 * x + 10 * y, GRB.MAXIMIZE) # Maximizacao do lucro"
   ]
  },
  {
   "cell_type": "markdown",
   "metadata": {},
   "source": [
    "### Restrição 1: A produção deve respeitar a oferta de peças pequenas"
   ]
  },
  {
   "cell_type": "code",
   "execution_count": 5,
   "metadata": {},
   "outputs": [
    {
     "data": {
      "text/plain": [
       "<gurobi.Constr *Awaiting Model Update*>"
      ]
     },
     "execution_count": 5,
     "metadata": {},
     "output_type": "execute_result"
    }
   ],
   "source": [
    "m.addConstr(2 * x + 2 * y <= 8, \"Pecas_Peq\")"
   ]
  },
  {
   "cell_type": "markdown",
   "metadata": {},
   "source": [
    "### Restrição 2: A produção deve respeitar a oferta de peças grandes"
   ]
  },
  {
   "cell_type": "code",
   "execution_count": 6,
   "metadata": {},
   "outputs": [
    {
     "data": {
      "text/plain": [
       "<gurobi.Constr *Awaiting Model Update*>"
      ]
     },
     "execution_count": 6,
     "metadata": {},
     "output_type": "execute_result"
    }
   ],
   "source": [
    "m.addConstr(2 * x + y <= 6, \"Pecas_Gr\")"
   ]
  },
  {
   "cell_type": "markdown",
   "metadata": {},
   "source": [
    "### Salva o modelo no formato .lp (importante para conferir se a formulação está implementada corretamente)"
   ]
  },
  {
   "cell_type": "code",
   "execution_count": 7,
   "metadata": {},
   "outputs": [],
   "source": [
    "m.write('lego.lp')"
   ]
  },
  {
   "cell_type": "markdown",
   "metadata": {},
   "source": [
    "### Resolve o modelo"
   ]
  },
  {
   "cell_type": "code",
   "execution_count": 8,
   "metadata": {},
   "outputs": [
    {
     "name": "stdout",
     "output_type": "stream",
     "text": [
      "Optimize a model with 2 rows, 2 columns and 4 nonzeros\n",
      "Coefficient statistics:\n",
      "  Matrix range     [1e+00, 2e+00]\n",
      "  Objective range  [1e+01, 2e+01]\n",
      "  Bounds range     [0e+00, 0e+00]\n",
      "  RHS range        [6e+00, 8e+00]\n",
      "Presolve time: 0.03s\n",
      "Presolved: 2 rows, 2 columns, 4 nonzeros\n",
      "\n",
      "Iteration    Objective       Primal Inf.    Dual Inf.      Time\n",
      "       0    2.6000000e+31   3.500000e+30   2.600000e+01      0s\n",
      "       2    5.2000000e+01   0.000000e+00   0.000000e+00      0s\n",
      "\n",
      "Solved in 2 iterations and 0.08 seconds\n",
      "Optimal objective  5.200000000e+01\n"
     ]
    }
   ],
   "source": [
    "m.optimize()"
   ]
  },
  {
   "cell_type": "markdown",
   "metadata": {},
   "source": [
    "### Imprimindo o valor das variáveis do problema"
   ]
  },
  {
   "cell_type": "code",
   "execution_count": 9,
   "metadata": {},
   "outputs": [
    {
     "name": "stdout",
     "output_type": "stream",
     "text": [
      "x: 2\n",
      "y: 2\n"
     ]
    }
   ],
   "source": [
    "# Impressao das variaveis do problema, com seus respectivos resultados\n",
    "for v in m.getVars():\n",
    "    print('%s: %g' % (v.varName, v.x))"
   ]
  },
  {
   "cell_type": "markdown",
   "metadata": {},
   "source": [
    "### Imprime o valor da função objetivo"
   ]
  },
  {
   "cell_type": "code",
   "execution_count": 10,
   "metadata": {},
   "outputs": [
    {
     "name": "stdout",
     "output_type": "stream",
     "text": [
      "Obj: 52\n"
     ]
    }
   ],
   "source": [
    "print('Obj: %g' % m.objVal)"
   ]
  },
  {
   "cell_type": "markdown",
   "metadata": {},
   "source": [
    "### Imprime o status da solução obtida."
   ]
  },
  {
   "cell_type": "code",
   "execution_count": 11,
   "metadata": {},
   "outputs": [
    {
     "name": "stdout",
     "output_type": "stream",
     "text": [
      "Status: OTIMA\n"
     ]
    }
   ],
   "source": [
    "# Impressao do status da solucao\n",
    "status = 'Status: '\n",
    "if m.status == GRB.OPTIMAL:\n",
    "    status += 'OTIMA'\n",
    "\n",
    "elif m.status == GRB.INFEASIBLE:\n",
    "    status += 'INFACTIVEL'\n",
    "\n",
    "elif m.status == GRB.UNBOUNDED:\n",
    "    status += 'ILIMITADA'\n",
    "\n",
    "else:\n",
    "    status += 'FACTIVEL'\n",
    "\n",
    "print(status)"
   ]
  },
  {
   "cell_type": "markdown",
   "metadata": {},
   "source": [
    "## Referências\n",
    "\n",
    "- James J. Cochran (2015) Extending “Lego® My Simplex”. INFORMS Transactions on Education 15(3):224-231. https://doi.org/10.1287/ited.2015.0139"
   ]
  }
 ],
 "metadata": {
  "kernelspec": {
   "display_name": "Python 3",
   "language": "python",
   "name": "python3"
  },
  "language_info": {
   "codemirror_mode": {
    "name": "ipython",
    "version": 3
   },
   "file_extension": ".py",
   "mimetype": "text/x-python",
   "name": "python",
   "nbconvert_exporter": "python",
   "pygments_lexer": "ipython3",
   "version": "3.7.3"
  }
 },
 "nbformat": 4,
 "nbformat_minor": 2
}
